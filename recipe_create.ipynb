{
 "cells": [
  {
   "cell_type": "code",
   "execution_count": 106,
   "metadata": {},
   "outputs": [],
   "source": [
    "import pandas as pd\n",
    "from flask import Flask, jsonify\n",
    "import pprint\n",
    "import json"
   ]
  },
  {
   "cell_type": "code",
   "execution_count": 107,
   "metadata": {},
   "outputs": [
    {
     "data": {
      "text/html": [
       "<div>\n",
       "<style scoped>\n",
       "    .dataframe tbody tr th:only-of-type {\n",
       "        vertical-align: middle;\n",
       "    }\n",
       "\n",
       "    .dataframe tbody tr th {\n",
       "        vertical-align: top;\n",
       "    }\n",
       "\n",
       "    .dataframe thead th {\n",
       "        text-align: right;\n",
       "    }\n",
       "</style>\n",
       "<table border=\"1\" class=\"dataframe\">\n",
       "  <thead>\n",
       "    <tr style=\"text-align: right;\">\n",
       "      <th></th>\n",
       "      <th>Unnamed: 0.2</th>\n",
       "      <th>Unnamed: 0.1</th>\n",
       "      <th>Unnamed: 0</th>\n",
       "      <th>Recipe</th>\n",
       "      <th>Type</th>\n",
       "      <th>Ingredients</th>\n",
       "      <th>Directions</th>\n",
       "    </tr>\n",
       "  </thead>\n",
       "  <tbody>\n",
       "    <tr>\n",
       "      <th>0</th>\n",
       "      <td>0</td>\n",
       "      <td>0</td>\n",
       "      <td>0</td>\n",
       "      <td>snick</td>\n",
       "      <td>cookie</td>\n",
       "      <td>cup sugar,cup flour</td>\n",
       "      <td>preheat,bake</td>\n",
       "    </tr>\n",
       "    <tr>\n",
       "      <th>1</th>\n",
       "      <td>1</td>\n",
       "      <td>1</td>\n",
       "      <td>1</td>\n",
       "      <td>brownies</td>\n",
       "      <td>brownie</td>\n",
       "      <td>cocoa,flour,butter</td>\n",
       "      <td>mix,bake,eat</td>\n",
       "    </tr>\n",
       "    <tr>\n",
       "      <th>2</th>\n",
       "      <td>2</td>\n",
       "      <td>2</td>\n",
       "      <td>2</td>\n",
       "      <td>test</td>\n",
       "      <td>cookie</td>\n",
       "      <td>i1,i2,i3</td>\n",
       "      <td>d1,d2,d3</td>\n",
       "    </tr>\n",
       "    <tr>\n",
       "      <th>3</th>\n",
       "      <td>3</td>\n",
       "      <td>3</td>\n",
       "      <td>3</td>\n",
       "      <td>Cinnamon Rolls</td>\n",
       "      <td>yeasted</td>\n",
       "      <td>Dough,1 cup warm milk,2 1/2 tsp instant dry ye...</td>\n",
       "      <td>Pour warm milk in mixing bowl and sprinkle wit...</td>\n",
       "    </tr>\n",
       "  </tbody>\n",
       "</table>\n",
       "</div>"
      ],
      "text/plain": [
       "   Unnamed: 0.2  Unnamed: 0.1  Unnamed: 0          Recipe     Type  \\\n",
       "0             0             0           0           snick   cookie   \n",
       "1             1             1           1        brownies  brownie   \n",
       "2             2             2           2            test   cookie   \n",
       "3             3             3           3  Cinnamon Rolls  yeasted   \n",
       "\n",
       "                                         Ingredients  \\\n",
       "0                                cup sugar,cup flour   \n",
       "1                                 cocoa,flour,butter   \n",
       "2                                           i1,i2,i3   \n",
       "3  Dough,1 cup warm milk,2 1/2 tsp instant dry ye...   \n",
       "\n",
       "                                          Directions  \n",
       "0                                       preheat,bake  \n",
       "1                                       mix,bake,eat  \n",
       "2                                           d1,d2,d3  \n",
       "3  Pour warm milk in mixing bowl and sprinkle wit...  "
      ]
     },
     "execution_count": 107,
     "metadata": {},
     "output_type": "execute_result"
    }
   ],
   "source": [
    "df = pd.read_csv(\"all_recipes.csv\")\n",
    "df.head()"
   ]
  },
  {
   "cell_type": "code",
   "execution_count": 108,
   "metadata": {},
   "outputs": [],
   "source": [
    "def new_recipe():\n",
    "    # options = ['Cookie','Brownie','Yeast item','Texas Sheet Cake','Cake','Pie']\n",
    "    name = input('Recipe Name: ')\n",
    "    type = input('Recipe Type: ')\n",
    "    \n",
    "    ingredient_list = []\n",
    "    ingredient = 'y'\n",
    "    while ingredient != '':\n",
    "        ingredient = input('Enter amount and ingredient name, when done, hit \"Enter\": ')\n",
    "        if indredient != '':\n",
    "            ingredient_list.append(ingredient)\n",
    "        # add_ingredient = input('Add another ingredient (y/n)? ')\n",
    "\n",
    "    direction_list = []\n",
    "    direction = 'y'\n",
    "    while direction != '':\n",
    "        direction = input('Add direction, hit enter when done: ')\n",
    "        direction_list.append(direction)\n",
    "        # add_direction = input('Add another direction? (y/n) ')\n",
    "\n",
    "    recipe_df = pd.DataFrame({'Recipe': name, 'Type': type, 'Ingredients': [ingredient_list], 'Directions':[direction_list]})\n",
    "    return (recipe_df)\n",
    "    "
   ]
  },
  {
   "cell_type": "code",
   "execution_count": 109,
   "metadata": {},
   "outputs": [],
   "source": [
    "add_recipe = input('Would you like to add another recipe? (y/n)')\n",
    "while add_recipe == 'y':\n",
    "    df = df.append(new_recipe())\n",
    "    add_recipe = input('Would you like to add another recipe? (y/n)')"
   ]
  },
  {
   "cell_type": "code",
   "execution_count": 110,
   "metadata": {},
   "outputs": [
    {
     "data": {
      "text/html": [
       "<div>\n",
       "<style scoped>\n",
       "    .dataframe tbody tr th:only-of-type {\n",
       "        vertical-align: middle;\n",
       "    }\n",
       "\n",
       "    .dataframe tbody tr th {\n",
       "        vertical-align: top;\n",
       "    }\n",
       "\n",
       "    .dataframe thead th {\n",
       "        text-align: right;\n",
       "    }\n",
       "</style>\n",
       "<table border=\"1\" class=\"dataframe\">\n",
       "  <thead>\n",
       "    <tr style=\"text-align: right;\">\n",
       "      <th></th>\n",
       "      <th>Unnamed: 0.2</th>\n",
       "      <th>Unnamed: 0.1</th>\n",
       "      <th>Unnamed: 0</th>\n",
       "      <th>Recipe</th>\n",
       "      <th>Type</th>\n",
       "      <th>Ingredients</th>\n",
       "      <th>Directions</th>\n",
       "    </tr>\n",
       "  </thead>\n",
       "  <tbody>\n",
       "    <tr>\n",
       "      <th>0</th>\n",
       "      <td>0</td>\n",
       "      <td>0</td>\n",
       "      <td>0</td>\n",
       "      <td>snick</td>\n",
       "      <td>cookie</td>\n",
       "      <td>cup sugar,cup flour</td>\n",
       "      <td>preheat,bake</td>\n",
       "    </tr>\n",
       "    <tr>\n",
       "      <th>1</th>\n",
       "      <td>1</td>\n",
       "      <td>1</td>\n",
       "      <td>1</td>\n",
       "      <td>brownies</td>\n",
       "      <td>brownie</td>\n",
       "      <td>cocoa,flour,butter</td>\n",
       "      <td>mix,bake,eat</td>\n",
       "    </tr>\n",
       "    <tr>\n",
       "      <th>2</th>\n",
       "      <td>2</td>\n",
       "      <td>2</td>\n",
       "      <td>2</td>\n",
       "      <td>test</td>\n",
       "      <td>cookie</td>\n",
       "      <td>i1,i2,i3</td>\n",
       "      <td>d1,d2,d3</td>\n",
       "    </tr>\n",
       "    <tr>\n",
       "      <th>3</th>\n",
       "      <td>3</td>\n",
       "      <td>3</td>\n",
       "      <td>3</td>\n",
       "      <td>Cinnamon Rolls</td>\n",
       "      <td>yeasted</td>\n",
       "      <td>Dough,1 cup warm milk,2 1/2 tsp instant dry ye...</td>\n",
       "      <td>Pour warm milk in mixing bowl and sprinkle wit...</td>\n",
       "    </tr>\n",
       "  </tbody>\n",
       "</table>\n",
       "</div>"
      ],
      "text/plain": [
       "   Unnamed: 0.2  Unnamed: 0.1  Unnamed: 0          Recipe     Type  \\\n",
       "0             0             0           0           snick   cookie   \n",
       "1             1             1           1        brownies  brownie   \n",
       "2             2             2           2            test   cookie   \n",
       "3             3             3           3  Cinnamon Rolls  yeasted   \n",
       "\n",
       "                                         Ingredients  \\\n",
       "0                                cup sugar,cup flour   \n",
       "1                                 cocoa,flour,butter   \n",
       "2                                           i1,i2,i3   \n",
       "3  Dough,1 cup warm milk,2 1/2 tsp instant dry ye...   \n",
       "\n",
       "                                          Directions  \n",
       "0                                       preheat,bake  \n",
       "1                                       mix,bake,eat  \n",
       "2                                           d1,d2,d3  \n",
       "3  Pour warm milk in mixing bowl and sprinkle wit...  "
      ]
     },
     "execution_count": 110,
     "metadata": {},
     "output_type": "execute_result"
    }
   ],
   "source": [
    "df.head()"
   ]
  },
  {
   "cell_type": "code",
   "execution_count": 111,
   "metadata": {},
   "outputs": [
    {
     "data": {
      "text/plain": [
       "['cup sugar,cup flour',\n",
       " 'cocoa,flour,butter',\n",
       " 'i1,i2,i3',\n",
       " 'Dough,1 cup warm milk,2 1/2 tsp instant dry yeast,2 large eggs(room temp),1/3 cup melted butter,1/2 cup granulated sugar,4 cups all-purpose flour']"
      ]
     },
     "execution_count": 111,
     "metadata": {},
     "output_type": "execute_result"
    }
   ],
   "source": [
    "df.Ingredients.tolist()"
   ]
  },
  {
   "cell_type": "code",
   "execution_count": 112,
   "metadata": {},
   "outputs": [],
   "source": [
    "new_list = []\n",
    "for i in df.Ingredients:\n",
    "    new_list.append(i.replace(\", \",\",\"))\n",
    "df.Ingredients = new_list\n",
    "\n",
    "new_list2 = []\n",
    "for j in df.Directions:\n",
    "    new_list2.append(j.replace(\", \",\",\"))\n",
    "df.Directions = new_list2"
   ]
  },
  {
   "cell_type": "code",
   "execution_count": 113,
   "metadata": {},
   "outputs": [],
   "source": [
    "df.to_csv(\"all_recipes.csv\")"
   ]
  },
  {
   "cell_type": "code",
   "execution_count": 114,
   "metadata": {},
   "outputs": [],
   "source": [
    "collection = []\n",
    "for index, row in df.iterrows():\n",
    "    recipe = {'name':row.Recipe,'type':row.Type,'ingredients':row.Ingredients.split(','),'directions':row.Directions.split(',')}\n",
    "    collection.append(recipe)"
   ]
  },
  {
   "cell_type": "code",
   "execution_count": 115,
   "metadata": {},
   "outputs": [
    {
     "name": "stdout",
     "output_type": "stream",
     "text": [
      "snick\n",
      "test\n"
     ]
    }
   ],
   "source": [
    "for i in range(len(collection)):\n",
    "    if collection[i]['type'] == kind:\n",
    "        print (collection[i]['name'])"
   ]
  },
  {
   "cell_type": "code",
   "execution_count": 116,
   "metadata": {},
   "outputs": [],
   "source": [
    "all_recipes = collection"
   ]
  },
  {
   "cell_type": "code",
   "execution_count": 117,
   "metadata": {},
   "outputs": [],
   "source": [
    "recipe_json = json.dumps(all_recipes, indent=4)"
   ]
  },
  {
   "cell_type": "code",
   "execution_count": 118,
   "metadata": {},
   "outputs": [],
   "source": [
    "with open(\"recipes.js\", 'w') as outfile:\n",
    "    outfile.write(recipe_json)\n"
   ]
  },
  {
   "cell_type": "code",
   "execution_count": 119,
   "metadata": {},
   "outputs": [
    {
     "name": "stdout",
     "output_type": "stream",
     "text": [
      "[ { 'directions': [ 'preheat',\n",
      "                    'bake'],\n",
      "    'ingredients': [ 'cup '\n",
      "                     'sugar',\n",
      "                     'cup '\n",
      "                     'flour'],\n",
      "    'name': 'snick',\n",
      "    'type': 'cookie'},\n",
      "  { 'directions': [ 'mix',\n",
      "                    'bake',\n",
      "                    'eat'],\n",
      "    'ingredients': [ 'cocoa',\n",
      "                     'flour',\n",
      "                     'butter'],\n",
      "    'name': 'brownies',\n",
      "    'type': 'brownie'},\n",
      "  { 'directions': [ 'd1',\n",
      "                    'd2',\n",
      "                    'd3'],\n",
      "    'ingredients': [ 'i1',\n",
      "                     'i2',\n",
      "                     'i3'],\n",
      "    'name': 'test',\n",
      "    'type': 'cookie'},\n",
      "  { 'directions': [ 'Pour '\n",
      "                    'warm '\n",
      "                    'milk in '\n",
      "                    'mixing '\n",
      "                    'bowl '\n",
      "                    'and '\n",
      "                    'sprinkle '\n",
      "                    'with '\n",
      "                    'yeast. '\n",
      "                    'Wait 10 '\n",
      "                    'minutes.',\n",
      "                    'Add '\n",
      "                    'eggs '\n",
      "                    'butter '\n",
      "                    'and '\n",
      "                    'sugar. '\n",
      "                    'Mix '\n",
      "                    'until '\n",
      "                    'combined.',\n",
      "                    'Add '\n",
      "                    'flour '\n",
      "                    'and mix '\n",
      "                    'until '\n",
      "                    'combined- '\n",
      "                    'let '\n",
      "                    'stand 5 '\n",
      "                    'minutes.',\n",
      "                    'Knead '\n",
      "                    'with '\n",
      "                    'dough '\n",
      "                    'hook '\n",
      "                    'until '\n",
      "                    'sticky '\n",
      "                    'dough '\n",
      "                    'forms.',\n",
      "                    'Put '\n",
      "                    'into '\n",
      "                    'greased '\n",
      "                    'bowl; '\n",
      "                    'cover '\n",
      "                    'in '\n",
      "                    'plastic '\n",
      "                    'wrap; '\n",
      "                    'let '\n",
      "                    'rise 1 '\n",
      "                    'hour in '\n",
      "                    'oven.'],\n",
      "    'ingredients': [ 'Dough',\n",
      "                     '1 cup '\n",
      "                     'warm '\n",
      "                     'milk',\n",
      "                     '2 1/2 '\n",
      "                     'tsp '\n",
      "                     'instant '\n",
      "                     'dry '\n",
      "                     'yeast',\n",
      "                     '2 '\n",
      "                     'large '\n",
      "                     'eggs(room '\n",
      "                     'temp)',\n",
      "                     '1/3 '\n",
      "                     'cup '\n",
      "                     'melted '\n",
      "                     'butter',\n",
      "                     '1/2 '\n",
      "                     'cup '\n",
      "                     'granulated '\n",
      "                     'sugar',\n",
      "                     '4 cups '\n",
      "                     'all-purpose '\n",
      "                     'flour'],\n",
      "    'name': 'Cinnamon Rolls',\n",
      "    'type': 'yeasted'}]\n"
     ]
    }
   ],
   "source": [
    "pp = pprint.PrettyPrinter(indent=2, width=30, compact=True)\n",
    "pp.pprint(all_recipes)\n"
   ]
  }
 ],
 "metadata": {
  "kernelspec": {
   "display_name": "base",
   "language": "python",
   "name": "python3"
  },
  "language_info": {
   "codemirror_mode": {
    "name": "ipython",
    "version": 3
   },
   "file_extension": ".py",
   "mimetype": "text/x-python",
   "name": "python",
   "nbconvert_exporter": "python",
   "pygments_lexer": "ipython3",
   "version": "3.9.13"
  },
  "orig_nbformat": 4
 },
 "nbformat": 4,
 "nbformat_minor": 2
}
